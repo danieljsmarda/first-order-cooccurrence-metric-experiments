{
 "cells": [
  {
   "cell_type": "code",
   "execution_count": 18,
   "metadata": {},
   "outputs": [],
   "source": [
    "import matplotlib.pyplot as plt\n",
    "from gensim.models import Word2Vec\n",
    "from scipy.stats import norm\n",
    "import numpy as np\n",
    "from tqdm import tqdm\n",
    "import sys\n",
    "sys.path.append('../src')\n",
    "from models import open_pickle, filter_terms_not_in_wemodel"
   ]
  },
  {
   "cell_type": "code",
   "execution_count": 8,
   "metadata": {
    "collapsed": true,
    "jupyter": {
     "outputs_hidden": true
    }
   },
   "outputs": [
    {
     "data": {
      "text/plain": [
       "([<matplotlib.axis.YTick at 0x1a401834b48>,\n",
       "  <matplotlib.axis.YTick at 0x1a401834208>,\n",
       "  <matplotlib.axis.YTick at 0x1a401838fc8>,\n",
       "  <matplotlib.axis.YTick at 0x1a40186e808>,\n",
       "  <matplotlib.axis.YTick at 0x1a40186ed48>],\n",
       " <a list of 5 Text yticklabel objects>)"
      ]
     },
     "execution_count": 8,
     "metadata": {},
     "output_type": "execute_result"
    },
    {
     "data": {
      "image/png": "[encoded data removed]",
      "text/plain": [
       "<Figure size 432x288 with 1 Axes>"
      ]
     },
     "metadata": {
      "needs_background": "light"
     },
     "output_type": "display_data"
    }
   ],
   "source": [
    "import matplotlib.pyplot as plt\n",
    "\n",
    "x = [2, 4, 3]\n",
    "y = [1, 3, 5]\n",
    "errors = [0.5, 0.25, 0.75]\n",
    "errors2 = [0.6, 0.3, 0.8]\n",
    "\n",
    "plt.figure()\n",
    "plt.errorbar(x, y, xerr=errors, fmt = 'o', color = 'r', capsize=5)\n",
    "plt.errorbar(x, y, xerr=errors2, fmt = 'o', color = 'k')\n",
    "plt.yticks((0, 1, 3, 5, 6), ('', 'x3', 'x2', 'x1','')) "
   ]
  },
  {
   "cell_type": "code",
   "execution_count": 2,
   "metadata": {},
   "outputs": [
    {
     "name": "stdout",
     "output_type": "stream",
     "text": [
      "loading done!\n"
     ]
    }
   ],
   "source": [
    "we_model_name = \"sg_dim300_min100_win5\"\n",
    "we_vector_size = 300\n",
    "we_model_dir = '../data/external/wiki-english/wiki-english-20171001/%s' % we_model_name\n",
    "\n",
    "we_model = Word2Vec.load(we_model_dir+'/model.gensim')\n",
    "print ('loading done!')"
   ]
  },
  {
   "cell_type": "code",
   "execution_count": 3,
   "metadata": {},
   "outputs": [],
   "source": [
    "RESULTS_FILEPATH = '../data/interim/association_metric_exps.pickle'\n",
    "EXPERIMENT_DEFINITION_FILEPATH = '../data/interim/experiment_definitions.pickle'\n",
    "SIGTEST_IMAGE_SAVE_FILEPATH = '../reports/figures/sigtest_intervals.png'\n",
    "\n",
    "exp_def_dict = open_pickle(EXPERIMENT_DEFINITION_FILEPATH)\n",
    "results_dict = open_pickle(RESULTS_FILEPATH)"
   ]
  },
  {
   "cell_type": "code",
   "execution_count": 13,
   "metadata": {},
   "outputs": [
    {
     "data": {
      "text/plain": [
       "defaultdict(dict,\n",
       "            {'first': {'X_array': array([ 0.08113076,  0.18911934, -0.0954811 ,  0.13401467,  0.09897012,\n",
       "                      0.19287561,  0.11558053,  0.06996465,  0.12096066,  0.12797187,\n",
       "                      0.11942707,  0.18256408,  0.17806363,  0.17999095,  0.11687332,\n",
       "                      0.08817419,  0.13236946,  0.10520089,  0.17782208,  0.09271343,\n",
       "                      0.14632878,  0.13019669,  0.14671066,  0.15014505], dtype=float32),\n",
       "              'Y_array': array([-0.04801004, -0.06460989, -0.08932857, -0.06297787, -0.40200305,\n",
       "                     -0.1162259 ,  0.05139589, -0.29557508, -0.14763156,  0.11352445,\n",
       "                     -0.1613886 , -0.0787251 , -0.19676779, -0.14766207, -0.03967397,\n",
       "                      0.07359396, -0.04168847,  0.08253389, -0.0736915 , -0.06181172,\n",
       "                      0.0839064 ,  0.08104831,  0.03454182, -0.13286161], dtype=float32),\n",
       "              'X_mean': 0.12423697,\n",
       "              'Y_mean': -0.068337,\n",
       "              'threshold': 0.065379,\n",
       "              'A_5': 0.01671242192387581,\n",
       "              'A_95': 0.16997475624084463,\n",
       "              'B_5': 0.00969968494027853,\n",
       "              'B_95': 0.16997475624084463,\n",
       "              'pct_5': 0,\n",
       "              'pct_95': 0},\n",
       "             'second': {'X_array': array([ 0.06463376,  0.13652503, -0.04676503,  0.11253601,  0.04916599,\n",
       "                      0.17652243,  0.09883526,  0.04855525,  0.07594025,  0.16368937,\n",
       "                      0.08388424,  0.11431959,  0.13489187,  0.08018041,  0.1137642 ,\n",
       "                      0.09362984,  0.10222384,  0.09800541,  0.14387575,  0.04530728,\n",
       "                      0.09423137,  0.14132568,  0.06971878,  0.06853676], dtype=float32),\n",
       "              'Y_array': array([-0.02787289, -0.01819867, -0.06967109, -0.01150721, -0.1667692 ,\n",
       "                     -0.06400925,  0.04445949, -0.18263587, -0.07073748,  0.11490756,\n",
       "                     -0.09649387, -0.04441088, -0.11249268, -0.08999455, -0.10317296,\n",
       "                      0.02992854,  0.0309861 , -0.02143282, -0.06515384,  0.02837816,\n",
       "                      0.04654327,  0.03567371,  0.03692234, -0.11014193], dtype=float32),\n",
       "              'X_mean': 0.09431389,\n",
       "              'Y_mean': -0.036954004,\n",
       "              'threshold': 0.0380725,\n",
       "              'pct_5': 0.006891302671283487,\n",
       "              'pct_95': 0.557002368569374,\n",
       "              'A_biases': array([0.24636367, 0.3360326 , 0.32783392, 0.34475553, 0.2964261 ,\n",
       "                     0.3219602 , 0.42715466, 0.33073768, 0.37278342, 0.42416668,\n",
       "                     0.3732654 , 0.21366799, 0.2673483 , 0.22172835, 0.2853265 ,\n",
       "                     0.36145395, 0.2938422 , 0.33583495, 0.22876093, 0.31422225,\n",
       "                     0.36241674, 0.30265492, 0.39434937, 0.28584054], dtype=float32),\n",
       "              'lower_bound': -0.12051583379507065,\n",
       "              'upper_bound': 0.10539177060127258,\n",
       "              'sigtest_dist_1': array([-0.00547316, -0.03850989, -0.01186016, ..., -0.00866558,\n",
       "                     -0.01913986, -0.02005512], dtype=float32),\n",
       "              'sigtest_dist_2': array([0.08142637, 0.0372856 , 0.07543895, ..., 0.08001605, 0.0551649 ,\n",
       "                     0.05555452], dtype=float32),\n",
       "              'sigtest_dist_3': array([0.0267102 , 0.03781424, 0.02631063, ..., 0.02492812, 0.03930498,\n",
       "                     0.0380001 ], dtype=float32),\n",
       "              'ST1_80CI': [-0.043030276079278354, 0.008444449980359443],\n",
       "              'ST1_90CI': [-0.05032646087223028, 0.01574063477331135],\n",
       "              'ST1_95CI': [-0.05665481307104871, 0.022068986972129785]}})"
      ]
     },
     "execution_count": 13,
     "metadata": {},
     "output_type": "execute_result"
    }
   ],
   "source": [
    "results_dict[1]"
   ]
  },
  {
   "cell_type": "code",
   "execution_count": 19,
   "metadata": {},
   "outputs": [],
   "source": [
    "def get_error(dist, interval_size):\n",
    "    '''Interval size should be 0<x<1'''\n",
    "    loc = np.mean(dist)\n",
    "    scale = np.std(dist)\n",
    "    err = loc - norm.ppf((1-interval_size)/2, loc=loc, scale=scale)"
   ]
  },
  {
   "cell_type": "code",
   "execution_count": 20,
   "metadata": {},
   "outputs": [
    {
     "data": {
      "image/png": "[encoded data removed]",
      "text/plain": [
       "<Figure size 1080x720 with 3 Axes>"
      ]
     },
     "metadata": {
      "needs_background": "light"
     },
     "output_type": "display_data"
    }
   ],
   "source": [
    "fig, axs = plt.subplots(1,3, figsize=(15,10))\n",
    "for test_num in range(1,4):\n",
    "    ax = axs[test_num - 1]\n",
    "    errors_80 = [get_error(results_dict[i]['second'][f'sigtest_dist_{test_num}'], 0.8) for i in range(1,11)]\n",
    "    errors_90 = [get_error(results_dict[i]['second'][f'sigtest_dist_{test_num}'], 0.9) for i in range(1,11)]\n",
    "    errors_95 = [get_error(results_dict[i]['second'][f'sigtest_dist_{test_num}'], 0.95) for i in range(1,11)]"
   ]
  },
  {
   "cell_type": "code",
   "execution_count": null,
   "metadata": {},
   "outputs": [],
   "source": []
  }
 ],
 "metadata": {
  "kernelspec": {
   "display_name": "Python 3",
   "language": "python",
   "name": "python3"
  },
  "language_info": {
   "codemirror_mode": {
    "name": "ipython",
    "version": 3
   },
   "file_extension": ".py",
   "mimetype": "text/x-python",
   "name": "python",
   "nbconvert_exporter": "python",
   "pygments_lexer": "ipython3",
   "version": "3.7.4"
  }
 },
 "nbformat": 4,
 "nbformat_minor": 4
}
