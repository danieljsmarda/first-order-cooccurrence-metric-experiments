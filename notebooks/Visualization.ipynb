{
 "cells": [
  {
   "cell_type": "code",
   "execution_count": 1,
   "metadata": {},
   "outputs": [],
   "source": [
    "import sys\n",
    "sys.path.append('../src')\n",
    "from models import open_pickle"
   ]
  },
  {
   "cell_type": "code",
   "execution_count": 3,
   "metadata": {},
   "outputs": [],
   "source": [
    "FILEPATH = '../data/interim/association_metric_exps.pickle'"
   ]
  },
  {
   "cell_type": "markdown",
   "metadata": {},
   "source": [
    "## See Entire Results Dict"
   ]
  },
  {
   "cell_type": "code",
   "execution_count": 4,
   "metadata": {},
   "outputs": [
    {
     "data": {
      "text/plain": [
       "defaultdict(dict,\n",
       "            {3: {'first_order_X': array([0.10917358, 0.11447405, 0.03977664, 0.21711674, 0.02069784,\n",
       "                     0.1428209 , 0.23171016, 0.10893403, 0.22164942, 0.1731362 ,\n",
       "                     0.03183159, 0.08439055, 0.13934323, 0.11403528, 0.10248176,\n",
       "                     0.15985223, 0.36892206, 0.13024949, 0.11066183, 0.19458479,\n",
       "                     0.17395213, 0.18826508, 0.09246605, 0.14566013, 0.14104251,\n",
       "                     0.12317574, 0.17753855, 0.17748386, 0.11440848, 0.06771086,\n",
       "                     0.07495613, 0.06568201, 0.12313557]),\n",
       "              'second_order_X': array([0.23449796, 0.2345688 , 0.0989702 , 0.37882134, 0.02910594,\n",
       "                     0.27740997, 0.16379115, 0.19063637, 0.41707927, 0.29391664,\n",
       "                     0.1971741 , 0.21215774, 0.3162869 , 0.2859519 , 0.3024328 ,\n",
       "                     0.18131642, 0.4094162 , 0.2760841 , 0.23804706, 0.30866247,\n",
       "                     0.30504382, 0.30536607, 0.20394868, 0.3266883 , 0.28670394,\n",
       "                     0.314532  , 0.30773422, 0.38299367, 0.3626843 , 0.20989752,\n",
       "                     0.20443484, 0.2916711 , 0.32588214], dtype=float32)}})"
      ]
     },
     "execution_count": 4,
     "metadata": {},
     "output_type": "execute_result"
    }
   ],
   "source": [
    "in_dict = open_pickle(FILEPATH)\n",
    "in_dict"
   ]
  },
  {
   "cell_type": "markdown",
   "metadata": {},
   "source": [
    "## Retrieve a Specific Experiment"
   ]
  },
  {
   "cell_type": "code",
   "execution_count": 5,
   "metadata": {},
   "outputs": [
    {
     "data": {
      "text/plain": [
       "array([0.23449796, 0.2345688 , 0.0989702 , 0.37882134, 0.02910594,\n",
       "       0.27740997, 0.16379115, 0.19063637, 0.41707927, 0.29391664,\n",
       "       0.1971741 , 0.21215774, 0.3162869 , 0.2859519 , 0.3024328 ,\n",
       "       0.18131642, 0.4094162 , 0.2760841 , 0.23804706, 0.30866247,\n",
       "       0.30504382, 0.30536607, 0.20394868, 0.3266883 , 0.28670394,\n",
       "       0.314532  , 0.30773422, 0.38299367, 0.3626843 , 0.20989752,\n",
       "       0.20443484, 0.2916711 , 0.32588214], dtype=float32)"
      ]
     },
     "execution_count": 5,
     "metadata": {},
     "output_type": "execute_result"
    }
   ],
   "source": [
    "EXP_NUM = 3\n",
    "EXP_NAME = 'second_order_X'\n",
    "arr_for_plotting = in_dict[EXP_NUM][EXP_NAME]\n",
    "arr_for_plotting"
   ]
  },
  {
   "cell_type": "code",
   "execution_count": 6,
   "metadata": {},
   "outputs": [],
   "source": [
    "# These are the X_terms from experiment 3 that correspond to the bias values above\n",
    "X_terms = ['roger','alan','frank','ian','justin',\n",
    "          'ryan','andrew','fred','jack','matthew','stephen','brad','greg','jed',\n",
    "          'paul','todd','brandon','hank','jonathan','peter','wilbur','amanda',\n",
    "          'courtney','heather','melanie','sara','amber','crystal','katie',\n",
    "          'meredith','shannon','betsy','donna','kristin','nancy','stephanie',\n",
    "          'bobbie-sue','ellen','lauren','peggy','sue-ellen','colleen','emily',\n",
    "          'megan','rachel','wendy']"
   ]
  },
  {
   "cell_type": "code",
   "execution_count": null,
   "metadata": {},
   "outputs": [],
   "source": []
  }
 ],
 "metadata": {
  "kernelspec": {
   "display_name": "Python 3",
   "language": "python",
   "name": "python3"
  },
  "language_info": {
   "codemirror_mode": {
    "name": "ipython",
    "version": 3
   },
   "file_extension": ".py",
   "mimetype": "text/x-python",
   "name": "python",
   "nbconvert_exporter": "python",
   "pygments_lexer": "ipython3",
   "version": "3.7.4"
  }
 },
 "nbformat": 4,
 "nbformat_minor": 4
}
