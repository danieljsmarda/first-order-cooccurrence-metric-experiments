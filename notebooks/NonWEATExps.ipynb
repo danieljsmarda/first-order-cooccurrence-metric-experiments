{
 "cells": [
  {
   "cell_type": "code",
   "execution_count": 1,
   "metadata": {},
   "outputs": [],
   "source": [
    "%load_ext autoreload\n",
    "%autoreload 2\n",
    "import os\n",
    "import copy\n",
    "import pickle\n",
    "from functools import lru_cache\n",
    "import pandas as pd\n",
    "import copy\n",
    "import time\n",
    "import sys\n",
    "from statistics import mean\n",
    "\n",
    "import numpy as np\n",
    "import scipy\n",
    "from tqdm import tqdm\n",
    "\n",
    "from gensim.models import Word2Vec\n",
    "from gensim import utils\n",
    "from gensim.corpora import Dictionary\n",
    "from gensim.models.lsimodel import LsiModel\n",
    "from sklearn.preprocessing import MinMaxScaler\n",
    "\n",
    "import sys\n",
    "sys.path.append('../src')\n",
    "from models import calculate_association_metric_for_target_word, word_set_to_mtx, \\\n",
    "    get_1storder_association_metric_no_cache, get_1storder_association_metric\n"
   ]
  },
  {
   "cell_type": "code",
   "execution_count": 2,
   "metadata": {},
   "outputs": [],
   "source": [
    "we_model_name = \"sg_dim300_min100_win5\"\n",
    "we_vector_size = 300\n",
    "we_model_dir = '../data/external/wiki-english/wiki-english-20171001/%s' % we_model_name"
   ]
  },
  {
   "cell_type": "code",
   "execution_count": 3,
   "metadata": {},
   "outputs": [
    {
     "name": "stdout",
     "output_type": "stream",
     "text": [
      "loading done!\n"
     ]
    }
   ],
   "source": [
    "we_model = Word2Vec.load(we_model_dir+'/model.gensim')\n",
    "\n",
    "print ('loading done!')"
   ]
  },
  {
   "cell_type": "code",
   "execution_count": 4,
   "metadata": {},
   "outputs": [],
   "source": [
    "#loading E_ctx_vec\n",
    "with open(we_model_dir+'/E_ctx_vec.pkl', 'rb') as fr:\n",
    "    E_ctx_vec = pickle.load(fr)\n",
    "with open(we_model_dir+'/E_wrd_vec.pkl', 'rb') as fr:\n",
    "    E_wrd_vec = pickle.load(fr)"
   ]
  },
  {
   "cell_type": "markdown",
   "metadata": {},
   "source": [
    "# Calculating *d*"
   ]
  },
  {
   "cell_type": "code",
   "execution_count": 5,
   "metadata": {},
   "outputs": [],
   "source": [
    "# WEAT 1\n",
    "X_terms = ['aster', 'clover', 'hyacinth', 'marigold', 'poppy', 'azalea', \n",
    "           'crocus', 'iris', 'orchid', 'rose', 'bluebell', 'daffodil','lilac',\n",
    "           'pansy','tulip','buttercup','daisy','lily','penny','violet','carnation',\n",
    "           'magnolia','petunia','zinnia']\n",
    "Y_terms = ['caterpillar','flea','locust','spider','bedbug','centipede','fly',\n",
    "          'maggot','tarantula','bee','cockroach','gnat','mosquito','termite','beetle',\n",
    "          'cricket','hornet','moth','wasp','blackfly','dragonfly','horsefly','roach',\n",
    "          'weevil']\n",
    "A_terms = ['caress','freedom','health','love','peace','cheer','friend','heaven',\n",
    "           'loyal','pleasure','diamond','gentle','honest','lucky','rainbow','diploma',\n",
    "           'gift','honor','miracle','sunrise','family','happy','laugher','paradise',\n",
    "           'vacation']\n",
    "B_terms = ['abuse','crash','filth','murder','sickness','accident','death','grief',\n",
    "          'poison','stink','assault','disaster','hatred','pollute','tragedy',\n",
    "          'divorce','jail','poverty','ugly','cancer','kill','rotten','vomit','agony',\n",
    "          'prison']\n",
    "# Removed words:\n",
    "# X: gladiola (not found)\n",
    "# Y: ant (random)"
   ]
  },
  {
   "cell_type": "code",
   "execution_count": 6,
   "metadata": {},
   "outputs": [],
   "source": [
    "# WEAT 2\n",
    "X_terms = ['bagpipe','cello','guitar','lute','trombone','banjo','clarinet','harmonica',\n",
    "           'mandolin','trumpet','bassoon','drum','harp','oboe','tuba','bell','fiddle',\n",
    "           'harpsichord','piano','viola','bongo','flute','horn','saxophone']\n",
    "Y_terms = ['arrow','club','gun','missile','spear','axe','dagger','harpoon','pistol',\n",
    "          'sword','blade','dynamite','hatchet','rifle','tank','bomb','firearm',\n",
    "          'knife','shotgun','teargas','cannon','grenade','mace','slingshot','whip']\n",
    "A_terms = ['caress','freedom','health','love','peace','cheer','friend','heaven',\n",
    "           'loyal','pleasure','diamond','gentle','honest','lucky','rainbow','diploma',\n",
    "           'gift','honor','miracle','sunrise','family','happy','laugher','paradise',\n",
    "           'vacation']\n",
    "B_terms = ['abuse','crash','filth','murder','sickness','accident','death','grief',\n",
    "          'poison','stink','assault','disaster','hatred','pollute','tragedy',\n",
    "          'divorce','jail','poverty','ugly','cancer','kill','rotten','vomit','agony',\n",
    "          'prison']"
   ]
  },
  {
   "cell_type": "code",
   "execution_count": 7,
   "metadata": {},
   "outputs": [
    {
     "name": "stdout",
     "output_type": "stream",
     "text": [
      "Missing x terms:  ['bobbie-sue', 'sue-ellen']\n",
      "missing y terms:  ['terryl', 'aiesha', 'lashelle', 'temeka', 'tameisha', 'teretha', 'laronya', 'shanise', 'lakisha', 'sharise', 'tashika', 'lashandra', 'shavonn']\n"
     ]
    }
   ],
   "source": [
    "# WEAT 3\n",
    "X_terms = ['roger','alan','frank','ian','justin',\n",
    "          'ryan','andrew','fred','jack','matthew','stephen','brad','greg','jed',\n",
    "          'paul','todd','brandon','hank','jonathan','peter','wilbur','amanda',\n",
    "          'courtney','heather','melanie','sara','amber','crystal','katie',\n",
    "          'meredith','shannon','betsy','donna','kristin','nancy','stephanie',\n",
    "          'bobbie-sue','ellen','lauren','peggy','sue-ellen','colleen','emily',\n",
    "          'megan','rachel','wendy']\n",
    "Y_terms = ['alonzo','jamel','lerone','theo','alphonse','jerome','leroy',\n",
    "           'torrance','darnell','lamar','lionel','rashaun','tyree','deion',\n",
    "          'lamont','malik','terrence','tyrone','lavon','terryl',\n",
    "          'wardell','aiesha','lashelle','nichelle','shereen','temeka','ebony',\n",
    "          'latisha','shaniqua','tameisha','teretha','jasmine','laronya','shanise',\n",
    "          'tanisha','tia','lakisha','latoya','sharise','tashika','yolanda',\n",
    "          'lashandra','malika','shavonn','tawanda','yvette']\n",
    "A_terms = ['caress','freedom','health','love','peace','cheer','friend','heaven',\n",
    "          'loyal','pleasure','diamond','gentle','honest','lucky','rainbow',\n",
    "          'diploma','gift','honor','miracle','sunrise','family','happy','laughter',\n",
    "          'paradise','vacation']\n",
    "B_terms = ['abuse','crash','filth','murder','sickness','accident','death','grief',\n",
    "          'poison','stink','assault','disaster','hatred','pollute','tragedy','bomb',\n",
    "          'divorce','jail','poverty','ugly','cancer','evil','kill','rotten','vomit']\n",
    "print (\"Missing x terms: \", [x for x in X_terms if x not in we_model.wv])\n",
    "print('missing y terms: ', [x for x in Y_terms if x not in we_model.wv])\n",
    "# Removed terms\n",
    "# X: adam (random), chip (random), harry (random), josh (random)\n",
    "# Y: percell (not found), rasaan (not found), everol (not found), marcelius (not found)"
   ]
  },
  {
   "cell_type": "code",
   "execution_count": 8,
   "metadata": {},
   "outputs": [],
   "source": [
    "# WEAT 4\n",
    "X_terms = ['Brad', 'Brendan', 'Geoffrey', 'Greg', 'Brett', 'Jay', 'Matthew', 'Neil',\n",
    "'Todd', 'Allison', 'Anne', 'Carrie', 'Emily', 'Jill', 'Laurie', 'Kristen', 'Meredith',\n",
    "           'Sarah']\n",
    "Y_terms = ['Darnell', 'Hakim', 'Jermaine', 'Kareem', 'Jamal', 'Leroy', 'Rasheed',\n",
    "'Tremayne', 'Tyrone', 'Aisha', 'Ebony', 'Keisha', 'Kenya', 'Latonya', 'Latoya',\n",
    "           'Tamika', 'Tanisha']\n",
    "A_terms = ['caress','freedom','health','love','peace','cheer','friend','heaven',\n",
    "           'loyal','pleasure','diamond','gentle','honest','lucky','rainbow','diploma',\n",
    "           'gift','honor','miracle','sunrise','family','happy','laugher','paradise',\n",
    "           'vacation']\n",
    "B_terms = ['abuse','crash','filth','murder','sickness','accident','death','grief',\n",
    "          'poison','stink','assault','disaster','hatred','pollute','tragedy',\n",
    "          'bomb','divorce','jail','poverty','ugly','cancer','evil','kill',\n",
    "          'rotten','vomit']\n",
    "[X_terms, Y_terms, A_tersm, B_terms] = [[str.lower(term) for term in terms] for terms in [X_terms, Y_terms, A_terms, B_terms]]\n"
   ]
  },
  {
   "cell_type": "code",
   "execution_count": 9,
   "metadata": {},
   "outputs": [],
   "source": [
    "# WEAT 5\n",
    "X_terms = ['Brad', 'Brendan', 'Geoffrey', 'Greg', 'Brett', 'Jay', 'Matthew', 'Neil',\n",
    "'Todd', 'Allison', 'Anne', 'Carrie', 'Emily', 'Jill', 'Laurie', 'Kristen', 'Meredith',\n",
    "           'Sarah']\n",
    "Y_terms = ['Darnell', 'Hakim', 'Jermaine', 'Kareem', 'Jamal', 'Leroy', 'Rasheed',\n",
    "'Tremayne', 'Tyrone', 'Aisha', 'Ebony', 'Keisha', 'Kenya', 'Latonya', 'Latoya',\n",
    "           'Tamika', 'Tanisha']\n",
    "A_terms = ['joy', 'love', 'peace', 'wonderful', 'pleasure', 'friend', 'laughter', 'happy']\n",
    "B_terms = ['agony', 'terrible', 'horrible', 'nasty', 'evil', 'war', 'awful', 'failure']\n",
    "[X_terms, Y_terms, A_tersm, B_terms] = [[str.lower(term) for term in terms] for terms in [X_terms, Y_terms, A_terms, B_terms]]\n",
    "# Removed terms: \"Lakisha\""
   ]
  },
  {
   "cell_type": "code",
   "execution_count": 10,
   "metadata": {},
   "outputs": [],
   "source": [
    "# WEAT 6\n",
    "X_terms = ['John', 'Paul','Mike','Kevin','Steve','Greg','Jeff','Bill']\n",
    "Y_terms = ['Amy','Joan','Lisa','Sarah','Diana','Kate','Ann','Donna']\n",
    "A_terms = ['executive','management','professional','corporation',\n",
    "               'salary','office','business','career']\n",
    "B_terms = ['home','parents','children','family',\n",
    "               'cousins','marriage','wedding','relatives']\n",
    "[X_terms, Y_terms, A_tersm, B_terms] = [tuple([str.lower(term) for term in terms]) for terms in [X_terms, Y_terms, A_terms, B_terms]]"
   ]
  },
  {
   "cell_type": "code",
   "execution_count": 11,
   "metadata": {},
   "outputs": [],
   "source": [
    "# WEAT 7 using Google News word2vec model\n",
    "X_terms = ['math','algebra','geometry','calculus',\n",
    "             'equations','computation','numbers','addition']\n",
    "Y_terms = ['poetry','art','dance','literature',\n",
    "             'novel','symphony','drama','sculpture']\n",
    "A_terms = ['male','man','boy','brother',\n",
    "              'he','him','his','son']\n",
    "B_terms = ['female','woman','girl','sister',\n",
    "               'she','her','hers','daughter']\n",
    "[X_terms, Y_terms, A_tersm, B_terms] = [[str.lower(term) for term in terms] for terms in [X_terms, Y_terms, A_terms, B_terms]]"
   ]
  },
  {
   "cell_type": "code",
   "execution_count": 12,
   "metadata": {},
   "outputs": [],
   "source": [
    "# Weat 8\n",
    "A_terms = ['brother','father','uncle','grandfather',\n",
    "          'son','he','his','him']\n",
    "B_terms = ['sister','mother','aunt','grandmother',\n",
    "          'daughter','she','hers','her']\n",
    "X_terms = ['science','technology','physics','chemistry',\n",
    "          'Einstein','NASA','experiment','astronomy']\n",
    "Y_terms = ['poetry','art','Shakespeare','dance',\n",
    "          'literature','novel','symphony','drama']\n",
    "[X_terms, Y_terms, A_tersm, B_terms] = [[str.lower(term) for term in terms] for terms in [X_terms, Y_terms, A_terms, B_terms]]"
   ]
  },
  {
   "cell_type": "code",
   "execution_count": 13,
   "metadata": {},
   "outputs": [],
   "source": [
    "# WEAT 9\n",
    "X_terms = ['sad','hopeless','gloomy','tearful','miserable','depressed']\n",
    "Y_terms = ['sick','illness','influenza','disease','virus','cancer']\n",
    "A_terms = ['impermanent','unstable','variable','fleeting','short','brief',\n",
    "          'occasional']\n",
    "B_terms = ['stable','always','constant','persistent','chronic','prolonged','forever']"
   ]
  },
  {
   "cell_type": "code",
   "execution_count": 14,
   "metadata": {},
   "outputs": [],
   "source": [
    "# Weat 10\n",
    "X_terms = ['Tiffany', 'Michelle', 'Cindy', 'Kristy', 'Brad', 'Eric', 'Joey', 'Billy']\n",
    "Y_terms = ['Ethel', 'Bernice', 'Gertrude', 'Agnes', 'Cecil', 'Wilbert', 'Mortimer', 'Edgar']\n",
    "A_terms = ['joy', 'love', 'peace', 'wonderful', 'pleasure', 'friend', 'laughter', 'happy']\n",
    "B_terms = ['agony', 'terrible', 'horrible', 'nasty', 'evil', 'war', 'awful', 'failure']\n",
    "[X_terms, Y_terms, A_tersm, B_terms] = [[str.lower(term) for term in terms] for terms in [X_terms, Y_terms, A_terms, B_terms]]"
   ]
  },
  {
   "cell_type": "markdown",
   "metadata": {},
   "source": [
    "# Generating List of Association Metrics"
   ]
  },
  {
   "cell_type": "markdown",
   "metadata": {},
   "source": [
    "# Second-Order"
   ]
  },
  {
   "cell_type": "code",
   "execution_count": 15,
   "metadata": {},
   "outputs": [],
   "source": [
    "def get_association_metrics_for_term_list(wv_obj, target_terms, A_terms, B_terms):\n",
    "    target_term_mtx = word_set_to_mtx(wv_obj, target_terms)\n",
    "    A_mtx = word_set_to_mtx(wv_obj, A_terms)\n",
    "    B_mtx = word_set_to_mtx(wv_obj, B_terms)\n",
    "    return np.apply_along_axis(lambda x_vec: calculate_association_metric_for_target_word(x_vec, A_mtx, B_mtx), 1, target_term_mtx)"
   ]
  },
  {
   "cell_type": "code",
   "execution_count": 16,
   "metadata": {},
   "outputs": [
    {
     "data": {
      "text/plain": [
       "array([0.05075578, 0.07742482, 0.04195428, 0.04895789, 0.01750761,\n",
       "       0.05121625, 0.03581539, 0.01980541])"
      ]
     },
     "execution_count": 16,
     "metadata": {},
     "output_type": "execute_result"
    }
   ],
   "source": [
    "get_association_metrics_for_term_list(we_model, X_terms, A_terms, B_terms)"
   ]
  },
  {
   "cell_type": "markdown",
   "metadata": {},
   "source": [
    "# First-Order"
   ]
  },
  {
   "cell_type": "code",
   "execution_count": 17,
   "metadata": {},
   "outputs": [
    {
     "name": "stderr",
     "output_type": "stream",
     "text": [
      "100%|████████████████████████████████████████████████████████████████████████████████████| 8/8 [00:03<00:00,  2.39it/s]\n"
     ]
    },
    {
     "data": {
      "text/plain": [
       "array([0.61726761, 1.00424683, 0.64293563, 0.73706758, 0.17341459,\n",
       "       0.49730325, 0.43554509, 0.44460142])"
      ]
     },
     "execution_count": 17,
     "metadata": {},
     "output_type": "execute_result"
    }
   ],
   "source": [
    "def get_1storder_association_metrics_for_term_list(wv_obj, target_terms, A_terms, B_terms, E_ctx_vec, E_wrd_vec):\n",
    "    x_associations = np.array([])\n",
    "    [A_terms, B_terms, E_ctx_vec_tup, E_wrd_vec_tup] = [tuple(i) for i in [A_terms, B_terms, E_ctx_vec, E_wrd_vec]]\n",
    "    for x in tqdm(target_terms):\n",
    "        x_association = get_1storder_association_metric(x, A_terms, B_terms, we_model, E_ctx_vec_tup, E_wrd_vec_tup)\n",
    "        x_associations = np.append(x_associations, x_association)\n",
    "    return x_associations\n",
    "get_1storder_association_metrics_for_term_list(we_model, X_terms, A_terms, B_terms, E_ctx_vec, E_wrd_vec)"
   ]
  },
  {
   "cell_type": "code",
   "execution_count": 18,
   "metadata": {},
   "outputs": [
    {
     "name": "stderr",
     "output_type": "stream",
     "text": [
      "100%|██████████████████████████████████████████████████████████████████████████████████| 80/80 [00:08<00:00,  8.96it/s]\n"
     ]
    },
    {
     "data": {
      "text/plain": [
       "array([0.61726761, 1.00424683, 0.64293563, 0.73706758, 0.17341459,\n",
       "       0.49730325, 0.43554509, 0.44460142, 0.61726761, 1.00424683,\n",
       "       0.64293563, 0.73706758, 0.17341459, 0.49730325, 0.43554509,\n",
       "       0.44460142, 0.61726761, 1.00424683, 0.64293563, 0.73706758,\n",
       "       0.17341459, 0.49730325, 0.43554509, 0.44460142, 0.61726761,\n",
       "       1.00424683, 0.64293563, 0.73706758, 0.17341459, 0.49730325,\n",
       "       0.43554509, 0.44460142, 0.61726761, 1.00424683, 0.64293563,\n",
       "       0.73706758, 0.17341459, 0.49730325, 0.43554509, 0.44460142,\n",
       "       0.61726761, 1.00424683, 0.64293563, 0.73706758, 0.17341459,\n",
       "       0.49730325, 0.43554509, 0.44460142, 0.61726761, 1.00424683,\n",
       "       0.64293563, 0.73706758, 0.17341459, 0.49730325, 0.43554509,\n",
       "       0.44460142, 0.61726761, 1.00424683, 0.64293563, 0.73706758,\n",
       "       0.17341459, 0.49730325, 0.43554509, 0.44460142, 0.61726761,\n",
       "       1.00424683, 0.64293563, 0.73706758, 0.17341459, 0.49730325,\n",
       "       0.43554509, 0.44460142, 0.61726761, 1.00424683, 0.64293563,\n",
       "       0.73706758, 0.17341459, 0.49730325, 0.43554509, 0.44460142])"
      ]
     },
     "execution_count": 18,
     "metadata": {},
     "output_type": "execute_result"
    }
   ],
   "source": [
    "def get_1storder_association_metrics_for_term_list_no_cache(wv_obj, target_terms, A_terms, B_terms, E_ctx_vec, E_wrd_vec):\n",
    "    x_associations = np.array([])\n",
    "    for x in tqdm(target_terms):\n",
    "        x_association = get_1storder_association_metric_no_cache(x, A_terms, B_terms, we_model, E_ctx_vec, E_wrd_vec)\n",
    "        x_associations = np.append(x_associations, x_association)\n",
    "    return x_associations\n",
    "get_1storder_association_metrics_for_term_list_no_cache(we_model, X_terms*10, A_terms, B_terms, E_ctx_vec, E_wrd_vec)"
   ]
  },
  {
   "cell_type": "code",
   "execution_count": 19,
   "metadata": {},
   "outputs": [
    {
     "ename": "AxisError",
     "evalue": "axis 1 is out of bounds for array of dimension 1",
     "output_type": "error",
     "traceback": [
      "\u001b[1;31m---------------------------------------------------------------------------\u001b[0m",
      "\u001b[1;31mAxisError\u001b[0m                                 Traceback (most recent call last)",
      "\u001b[1;32m<ipython-input-19-fca3f81426e5>\u001b[0m in \u001b[0;36m<module>\u001b[1;34m\u001b[0m\n\u001b[0;32m      6\u001b[0m                                \u001b[0mword_array\u001b[0m\u001b[1;33m[\u001b[0m\u001b[1;36m0\u001b[0m\u001b[1;33m]\u001b[0m\u001b[1;33m\u001b[0m\u001b[1;33m\u001b[0m\u001b[0m\n\u001b[0;32m      7\u001b[0m                               )\n\u001b[1;32m----> 8\u001b[1;33m \u001b[0mnp_get_1storder_association_metrics_for_term_list_no_cache\u001b[0m\u001b[1;33m(\u001b[0m\u001b[0mwe_model\u001b[0m\u001b[1;33m,\u001b[0m \u001b[0mX_terms\u001b[0m\u001b[1;33m,\u001b[0m \u001b[0mA_terms\u001b[0m\u001b[1;33m,\u001b[0m \u001b[0mB_terms\u001b[0m\u001b[1;33m,\u001b[0m \u001b[0mE_ctx_vec\u001b[0m\u001b[1;33m,\u001b[0m \u001b[0mE_wrd_vec\u001b[0m\u001b[1;33m)\u001b[0m\u001b[1;33m\u001b[0m\u001b[1;33m\u001b[0m\u001b[0m\n\u001b[0m",
      "\u001b[1;32m<ipython-input-19-fca3f81426e5>\u001b[0m in \u001b[0;36mnp_get_1storder_association_metrics_for_term_list_no_cache\u001b[1;34m(wv_obj, target_terms, A_terms, B_terms, E_ctx_vec, E_wrd_vec)\u001b[0m\n\u001b[0;32m      4\u001b[0m     return np.apply_along_axis(lambda word: get_1storder_association_metric_no_cache(word, A_terms, B_terms, we_model, E_ctx_vec, E_wrd_vec),\n\u001b[0;32m      5\u001b[0m                                \u001b[1;36m1\u001b[0m\u001b[1;33m,\u001b[0m\u001b[1;33m\u001b[0m\u001b[1;33m\u001b[0m\u001b[0m\n\u001b[1;32m----> 6\u001b[1;33m                                \u001b[0mword_array\u001b[0m\u001b[1;33m[\u001b[0m\u001b[1;36m0\u001b[0m\u001b[1;33m]\u001b[0m\u001b[1;33m\u001b[0m\u001b[1;33m\u001b[0m\u001b[0m\n\u001b[0m\u001b[0;32m      7\u001b[0m                               )\n\u001b[0;32m      8\u001b[0m \u001b[0mnp_get_1storder_association_metrics_for_term_list_no_cache\u001b[0m\u001b[1;33m(\u001b[0m\u001b[0mwe_model\u001b[0m\u001b[1;33m,\u001b[0m \u001b[0mX_terms\u001b[0m\u001b[1;33m,\u001b[0m \u001b[0mA_terms\u001b[0m\u001b[1;33m,\u001b[0m \u001b[0mB_terms\u001b[0m\u001b[1;33m,\u001b[0m \u001b[0mE_ctx_vec\u001b[0m\u001b[1;33m,\u001b[0m \u001b[0mE_wrd_vec\u001b[0m\u001b[1;33m)\u001b[0m\u001b[1;33m\u001b[0m\u001b[1;33m\u001b[0m\u001b[0m\n",
      "\u001b[1;32m<__array_function__ internals>\u001b[0m in \u001b[0;36mapply_along_axis\u001b[1;34m(*args, **kwargs)\u001b[0m\n",
      "\u001b[1;32m~\\Miniconda3\\envs\\semproject\\lib\\site-packages\\numpy\\lib\\shape_base.py\u001b[0m in \u001b[0;36mapply_along_axis\u001b[1;34m(func1d, axis, arr, *args, **kwargs)\u001b[0m\n\u001b[0;32m    361\u001b[0m     \u001b[0marr\u001b[0m \u001b[1;33m=\u001b[0m \u001b[0masanyarray\u001b[0m\u001b[1;33m(\u001b[0m\u001b[0marr\u001b[0m\u001b[1;33m)\u001b[0m\u001b[1;33m\u001b[0m\u001b[1;33m\u001b[0m\u001b[0m\n\u001b[0;32m    362\u001b[0m     \u001b[0mnd\u001b[0m \u001b[1;33m=\u001b[0m \u001b[0marr\u001b[0m\u001b[1;33m.\u001b[0m\u001b[0mndim\u001b[0m\u001b[1;33m\u001b[0m\u001b[1;33m\u001b[0m\u001b[0m\n\u001b[1;32m--> 363\u001b[1;33m     \u001b[0maxis\u001b[0m \u001b[1;33m=\u001b[0m \u001b[0mnormalize_axis_index\u001b[0m\u001b[1;33m(\u001b[0m\u001b[0maxis\u001b[0m\u001b[1;33m,\u001b[0m \u001b[0mnd\u001b[0m\u001b[1;33m)\u001b[0m\u001b[1;33m\u001b[0m\u001b[1;33m\u001b[0m\u001b[0m\n\u001b[0m\u001b[0;32m    364\u001b[0m \u001b[1;33m\u001b[0m\u001b[0m\n\u001b[0;32m    365\u001b[0m     \u001b[1;31m# arr, with the iteration axis at the end\u001b[0m\u001b[1;33m\u001b[0m\u001b[1;33m\u001b[0m\u001b[1;33m\u001b[0m\u001b[0m\n",
      "\u001b[1;31mAxisError\u001b[0m: axis 1 is out of bounds for array of dimension 1"
     ]
    }
   ],
   "source": [
    "def np_get_1storder_association_metrics_for_term_list_no_cache(wv_obj, target_terms, A_terms, B_terms, E_ctx_vec, E_wrd_vec):\n",
    "    word_array = np.array(target_terms)\n",
    "    word_array = word_array.reshape(word_array.shape[0],1)\n",
    "    return np.apply_along_axis(lambda word: get_1storder_association_metric_no_cache(word_row[0], A_terms, B_terms, we_model, E_ctx_vec, E_wrd_vec),\n",
    "                               1, \n",
    "                               word_array\n",
    "                              )\n",
    "np_get_1storder_association_metrics_for_term_list_no_cache(we_model, X_terms, A_terms, B_terms, E_ctx_vec, E_wrd_vec)"
   ]
  },
  {
   "cell_type": "code",
   "execution_count": null,
   "metadata": {},
   "outputs": [],
   "source": [
    "start = time.time()\n",
    "all_terms = list(we_model.wv.vocab.keys())[:100]\n",
    "arr = np.array(all_terms)\n",
    "reshaped = arr.reshape(arr.shape[0],1)\n",
    "out = np.apply_along_axis(lambda word_row: get_1storder_association_metric_no_cache(word_row[0], A_terms, B_terms, we_model, E_ctx_vec, E_wrd_vec),\n",
    "                    1,\n",
    "                    reshaped\n",
    "                   )\n",
    "end = time.time()\n",
    "print(end - start)\n",
    "print(out)"
   ]
  },
  {
   "cell_type": "markdown",
   "metadata": {},
   "source": [
    "## Max for Min-Max"
   ]
  },
  {
   "cell_type": "code",
   "execution_count": null,
   "metadata": {},
   "outputs": [],
   "source": [
    "all_terms = list(we_model.wv.vocab.keys())\n",
    "whole_vocab_association_metrics = get_1storder_association_metrics_for_term_list_no_cache(we_model, all_terms, A_terms, B_terms, E_ctx_vec, E_wrd_vec)"
   ]
  },
  {
   "cell_type": "markdown",
   "metadata": {},
   "source": [
    "# Sandbox"
   ]
  },
  {
   "cell_type": "code",
   "execution_count": null,
   "metadata": {},
   "outputs": [],
   "source": [
    "len(we_model.wv.vectors)"
   ]
  },
  {
   "cell_type": "code",
   "execution_count": null,
   "metadata": {},
   "outputs": [],
   "source": [
    "all_terms = list(we_model.wv.vocab.keys())\n",
    "all_terms[:5]"
   ]
  },
  {
   "cell_type": "code",
   "execution_count": null,
   "metadata": {},
   "outputs": [],
   "source": []
  }
 ],
 "metadata": {
  "kernelspec": {
   "display_name": "Python 3",
   "language": "python",
   "name": "python3"
  },
  "language_info": {
   "codemirror_mode": {
    "name": "ipython",
    "version": 3
   },
   "file_extension": ".py",
   "mimetype": "text/x-python",
   "name": "python",
   "nbconvert_exporter": "python",
   "pygments_lexer": "ipython3",
   "version": "3.7.4"
  }
 },
 "nbformat": 4,
 "nbformat_minor": 4
}
