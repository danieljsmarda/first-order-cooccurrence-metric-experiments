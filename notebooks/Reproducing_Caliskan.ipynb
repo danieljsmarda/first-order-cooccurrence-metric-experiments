{
 "cells": [
  {
   "cell_type": "code",
   "execution_count": 2,
   "metadata": {},
   "outputs": [],
   "source": [
    "%load_ext autoreload\n",
    "%autoreload 2\n",
    "from gensim.test.utils import datapath\n",
    "from gensim.models import KeyedVectors\n",
    "from scipy.spatial.distance import cosine as cosine_distance\n",
    "import numpy as np\n",
    "from itertools import combinations\n",
    "from tqdm import tqdm\n",
    "import sys\n",
    "sys.path.append('../src')\n",
    "from models import produce_effect_size, calculate_association_metric_for_target_word, get_matrices_from_term_lists"
   ]
  },
  {
   "cell_type": "code",
   "execution_count": 2,
   "metadata": {},
   "outputs": [],
   "source": [
    "wv_from_bin = KeyedVectors.load_word2vec_format(\"../data/external/GoogleNews-vectors-negative300.bin\", binary=True)  # C bin format"
   ]
  },
  {
   "cell_type": "code",
   "execution_count": 10,
   "metadata": {
    "collapsed": true,
    "jupyter": {
     "outputs_hidden": true
    }
   },
   "outputs": [
    {
     "data": {
      "text/plain": [
       "array([ 0.0090332 ,  0.12158203,  0.3984375 ,  0.21386719, -0.01672363,\n",
       "        0.06396484,  0.3125    , -0.23535156, -0.10009766, -0.09326172,\n",
       "        0.20507812, -0.03222656, -0.21191406,  0.00958252, -0.27734375,\n",
       "        0.09619141, -0.1875    , -0.04052734,  0.2265625 , -0.23632812,\n",
       "       -0.04858398,  0.03295898, -0.08056641,  0.12255859,  0.05859375,\n",
       "       -0.09130859, -0.02685547,  0.02587891, -0.11376953, -0.21972656,\n",
       "       -0.0378418 , -0.15722656, -0.05981445, -0.01635742,  0.11425781,\n",
       "       -0.15234375, -0.01086426,  0.29296875,  0.22265625, -0.00245667,\n",
       "       -0.16308594, -0.11669922, -0.20800781,  0.31835938, -0.08740234,\n",
       "        0.13378906,  0.15429688,  0.11816406, -0.07470703,  0.09326172,\n",
       "       -0.32421875,  0.01239014, -0.07226562, -0.10986328, -0.07177734,\n",
       "        0.16113281,  0.05541992, -0.3984375 , -0.04980469, -0.25195312,\n",
       "       -0.05249023, -0.05786133,  0.16699219, -0.26953125, -0.04394531,\n",
       "       -0.14257812,  0.03662109,  0.34765625, -0.10888672, -0.12011719,\n",
       "       -0.19335938, -0.21972656,  0.16015625, -0.06542969, -0.22070312,\n",
       "        0.1484375 ,  0.23144531,  0.11669922, -0.15429688,  0.04174805,\n",
       "       -0.08837891,  0.21972656,  0.08056641, -0.10888672,  0.07080078,\n",
       "       -0.11279297,  0.00628662,  0.37890625, -0.21582031,  0.11035156,\n",
       "        0.27148438, -0.29296875, -0.12988281, -0.10595703,  0.15820312,\n",
       "        0.21484375,  0.27929688,  0.04150391,  0.22949219, -0.02038574,\n",
       "        0.02307129,  0.12353516, -0.14355469, -0.1328125 ,  0.03930664,\n",
       "        0.01324463, -0.01965332, -0.10107422,  0.27539062, -0.13867188,\n",
       "       -0.10986328,  0.06982422,  0.14648438,  0.203125  ,  0.04736328,\n",
       "        0.18066406, -0.10546875,  0.20410156,  0.22460938,  0.09912109,\n",
       "        0.08251953, -0.01672363, -0.09619141,  0.1171875 , -0.29101562,\n",
       "       -0.0324707 , -0.05981445, -0.01818848, -0.09472656,  0.20800781,\n",
       "       -0.04663086, -0.30078125, -0.05957031, -0.18554688, -0.06494141,\n",
       "        0.22265625,  0.21191406,  0.01867676, -0.140625  , -0.04150391,\n",
       "        0.15039062, -0.12158203, -0.10498047, -0.1875    , -0.29101562,\n",
       "        0.0078125 ,  0.25585938, -0.08642578,  0.17578125, -0.03271484,\n",
       "        0.19628906, -0.16796875, -0.1796875 ,  0.05834961, -0.2578125 ,\n",
       "       -0.23925781,  0.15234375, -0.14355469, -0.01226807, -0.23925781,\n",
       "       -0.24511719, -0.17675781, -0.18261719,  0.3828125 ,  0.34765625,\n",
       "        0.07226562,  0.14941406, -0.16015625,  0.02490234, -0.12207031,\n",
       "        0.13476562,  0.14941406, -0.08447266,  0.10107422,  0.13867188,\n",
       "        0.01940918, -0.11328125, -0.08642578, -0.07470703,  0.02758789,\n",
       "       -0.13183594, -0.03662109,  0.06445312, -0.22167969,  0.19726562,\n",
       "       -0.09375   ,  0.17871094, -0.01647949,  0.05761719,  0.09619141,\n",
       "        0.04614258,  0.00799561,  0.06982422,  0.05566406, -0.15820312,\n",
       "        0.20214844,  0.25      , -0.11865234,  0.05541992,  0.00570679,\n",
       "       -0.33984375, -0.09960938,  0.02026367, -0.04785156, -0.28515625,\n",
       "       -0.28320312,  0.24511719, -0.14648438, -0.32226562, -0.12158203,\n",
       "       -0.12988281,  0.11328125,  0.09716797,  0.00958252,  0.04541016,\n",
       "        0.24121094,  0.04077148,  0.08789062,  0.33203125, -0.02148438,\n",
       "       -0.01507568, -0.17773438,  0.26953125,  0.10546875,  0.13867188,\n",
       "        0.07470703,  0.13964844,  0.01446533, -0.06445312,  0.16113281,\n",
       "        0.22558594,  0.09472656,  0.07714844, -0.15039062,  0.21679688,\n",
       "        0.04443359,  0.16992188,  0.12597656,  0.04321289, -0.08642578,\n",
       "        0.30859375,  0.1015625 , -0.00656128,  0.08496094, -0.17382812,\n",
       "       -0.05834961,  0.08740234,  0.00732422, -0.22070312,  0.13183594,\n",
       "       -0.27734375, -0.33203125,  0.11279297,  0.0559082 ,  0.17871094,\n",
       "       -0.22851562,  0.03369141,  0.0267334 , -0.18554688,  0.03320312,\n",
       "        0.05053711, -0.109375  , -0.26367188,  0.07421875,  0.07617188,\n",
       "        0.26171875,  0.20117188, -0.18066406, -0.10449219, -0.03076172,\n",
       "        0.09033203, -0.15234375, -0.11816406, -0.10253906, -0.0703125 ,\n",
       "       -0.13476562, -0.08789062, -0.23144531,  0.23828125,  0.05761719,\n",
       "        0.17382812,  0.06445312,  0.1953125 ,  0.18945312, -0.05737305,\n",
       "       -0.07910156,  0.15332031, -0.17089844,  0.11035156,  0.34570312,\n",
       "       -0.23144531,  0.03955078, -0.3671875 ,  0.03344727,  0.06054688,\n",
       "       -0.01989746,  0.18164062, -0.171875  ,  0.2890625 ,  0.07470703],\n",
       "      dtype=float32)"
      ]
     },
     "execution_count": 10,
     "metadata": {},
     "output_type": "execute_result"
    }
   ],
   "source": [
    "wv_from_bin['science']"
   ]
  },
  {
   "cell_type": "code",
   "execution_count": 7,
   "metadata": {},
   "outputs": [],
   "source": [
    "# WEAT 6\n",
    "X_terms = ['John', 'Paul','Mike','Kevin','Steve','Greg','Jeff','Bill']\n",
    "Y_terms = ['Amy','Joan','Lisa','Sarah','Diana','Kate','Ann','Donna']\n",
    "A_terms = ['executive','management','professional','corporation',\n",
    "               'salary','office','business','career']\n",
    "B_terms = ['home','parents','children','family',\n",
    "               'cousins','marriage','wedding','relatives']"
   ]
  },
  {
   "cell_type": "code",
   "execution_count": 15,
   "metadata": {},
   "outputs": [],
   "source": [
    "# WEAT 7 using Google News word2vec model\n",
    "X_terms = ['math','algebra','geometry','calculus',\n",
    "             'equations','computation','numbers','addition']\n",
    "Y_terms = ['poetry','art','dance','literature',\n",
    "             'novel','symphony','drama','sculpture']\n",
    "A_terms = ['male','man','boy','brother',\n",
    "              'he','him','his','son']\n",
    "B_terms = ['female','woman','girl','sister',\n",
    "               'she','her','hers','daughter']"
   ]
  },
  {
   "cell_type": "code",
   "execution_count": 19,
   "metadata": {},
   "outputs": [],
   "source": [
    "# Weat 8\n",
    "A_terms = ['brother','father','uncle','grandfather',\n",
    "          'son','he','his','him']\n",
    "B_terms = ['sister','mother','aunt','grandmother',\n",
    "          'daughter','she','hers','her']\n",
    "X_terms = ['science','technology','physics','chemistry',\n",
    "          'Einstein','NASA','experiment','astronomy']\n",
    "Y_terms = ['poetry','art','Shakespeare','dance',\n",
    "          'literature','novel','symphony','drama']"
   ]
  },
  {
   "cell_type": "code",
   "execution_count": 55,
   "metadata": {},
   "outputs": [],
   "source": [
    "wv_test_object = {'x_word1':[.1,.2,.3],\n",
    "            'x_word2':[.4,.5,.6],\n",
    "            'y_word1':[.2,.4,.6],\n",
    "            'y_word2':[.1,.3,.5],\n",
    "            'a_word1':[.5,.7,.9],\n",
    "            'a_word2':[.4,.6,.8],\n",
    "            'b_word1':[.3,.6,.9],\n",
    "            'b_word2':[.4,.7,.9]}"
   ]
  },
  {
   "cell_type": "code",
   "execution_count": 58,
   "metadata": {},
   "outputs": [],
   "source": [
    "X_terms = ['x_word1', 'x_word2']\n",
    "Y_terms = ['y_word1', 'y_word2']\n",
    "A_terms = ['a_word1', 'a_word2']\n",
    "B_terms = ['b_word1', 'b_word2']\n",
    "[X_mtx, Y_mtx, A_mtx, B_mtx] = get_matrices_from_term_lists(wv_test_object, X_terms, Y_terms, A_terms, B_terms)"
   ]
  },
  {
   "cell_type": "code",
   "execution_count": 61,
   "metadata": {},
   "outputs": [
    {
     "data": {
      "text/plain": [
       "1.1899801283181513"
      ]
     },
     "execution_count": 61,
     "metadata": {},
     "output_type": "execute_result"
    }
   ],
   "source": [
    "produce_effect_size(wv_test_object, X_terms, Y_terms, A_terms, B_terms)"
   ]
  },
  {
   "cell_type": "markdown",
   "metadata": {},
   "source": [
    "# Test Statistic"
   ]
  },
  {
   "cell_type": "code",
   "execution_count": 66,
   "metadata": {},
   "outputs": [],
   "source": [
    "x1_vec = wv_test_object['x_word1']\n",
    "s1 = calculate_association_metric_for_target_word(x1_vec, A_mtx, B_mtx)"
   ]
  },
  {
   "cell_type": "code",
   "execution_count": 68,
   "metadata": {},
   "outputs": [],
   "source": [
    "x2_vec = wv_test_object['x_word2']\n",
    "s2 = calculate_association_metric_for_target_word(x2_vec, A_mtx, B_mtx)"
   ]
  },
  {
   "cell_type": "code",
   "execution_count": 74,
   "metadata": {},
   "outputs": [],
   "source": [
    "y1_vec = wv_test_object['y_word1']\n",
    "sy1 = calculate_association_metric_for_target_word(y1_vec, A_mtx, B_mtx)\n",
    "y2_vec = wv_test_object['y_word2']\n",
    "sy2 = calculate_association_metric_for_target_word(y2_vec, A_mtx, B_mtx)"
   ]
  },
  {
   "cell_type": "code",
   "execution_count": 75,
   "metadata": {},
   "outputs": [
    {
     "name": "stdout",
     "output_type": "stream",
     "text": [
      "-0.007639423266564194 0.013706608780193585 0.03175706038191817\n"
     ]
    }
   ],
   "source": [
    "print(s1, s2, s1+s2 - (sy1+sy2))"
   ]
  },
  {
   "cell_type": "code",
   "execution_count": 77,
   "metadata": {},
   "outputs": [
    {
     "data": {
      "text/plain": [
       "0.006067185513629392"
      ]
     },
     "execution_count": 77,
     "metadata": {},
     "output_type": "execute_result"
    }
   ],
   "source": [
    "def produce_test_statistic(X_mtx, Y_mtx, A_mtx, B_mtx):\n",
    "    x_associations = np.apply_along_axis(lambda x_vec: calculate_association_metric_for_target_word(x_vec, A_mtx, B_mtx), 1, X_mtx)\n",
    "    y_associations = np.apply_along_axis(lambda y_vec: calculate_association_metric_for_target_word(y_vec, A_mtx, B_mtx), 1, Y_mtx)\n",
    "    return np.sum(x_associations)\n",
    "produce_test_statistic(X_mtx, Y_mtx, A_mtx, B_mtx)"
   ]
  },
  {
   "cell_type": "code",
   "execution_count": 85,
   "metadata": {
    "collapsed": true,
    "jupyter": {
     "outputs_hidden": true
    }
   },
   "outputs": [
    {
     "name": "stdout",
     "output_type": "stream",
     "text": [
      "('F', 'C', 'D') {'A', 'E', 'B'}\n",
      "('F', 'C', 'A') {'E', 'B', 'D'}\n",
      "('F', 'C', 'E') {'A', 'B', 'D'}\n",
      "('F', 'C', 'B') {'A', 'E', 'D'}\n",
      "('F', 'D', 'A') {'C', 'E', 'B'}\n",
      "('F', 'D', 'E') {'A', 'C', 'B'}\n",
      "('F', 'D', 'B') {'A', 'C', 'E'}\n",
      "('F', 'A', 'E') {'C', 'B', 'D'}\n",
      "('F', 'A', 'B') {'C', 'E', 'D'}\n",
      "('F', 'E', 'B') {'A', 'C', 'D'}\n",
      "('C', 'D', 'A') {'F', 'E', 'B'}\n",
      "('C', 'D', 'E') {'F', 'A', 'B'}\n",
      "('C', 'D', 'B') {'F', 'A', 'E'}\n",
      "('C', 'A', 'E') {'F', 'B', 'D'}\n",
      "('C', 'A', 'B') {'F', 'E', 'D'}\n",
      "('C', 'E', 'B') {'F', 'A', 'D'}\n",
      "('D', 'A', 'E') {'F', 'C', 'B'}\n",
      "('D', 'A', 'B') {'F', 'C', 'E'}\n",
      "('D', 'E', 'B') {'F', 'A', 'C'}\n",
      "('A', 'E', 'B') {'F', 'C', 'D'}\n"
     ]
    }
   ],
   "source": [
    "x = ['A','B','C','D','E','F']\n",
    "for seq in combinations(set(x), len(x)//2):\n",
    "    print(seq, set(x).difference(seq))"
   ]
  },
  {
   "cell_type": "code",
   "execution_count": null,
   "metadata": {},
   "outputs": [],
   "source": [
    "x_union_y = set(X_terms).union(set_Y_terms)\n",
    "for "
   ]
  },
  {
   "cell_type": "code",
   "execution_count": 4,
   "metadata": {},
   "outputs": [
    {
     "name": "stdout",
     "output_type": "stream",
     "text": [
      "('d', 'a') {'c', 'b'}\n",
      "('d', 'b') {'a', 'c'}\n",
      "('d', 'c') {'a', 'b'}\n"
     ]
    }
   ],
   "source": [
    "a_union_b = {'a','b','c','d'}\n",
    "already_seen = []\n",
    "for seq in combinations(a_union_b, 2):\n",
    "    complement = a_union_b.difference(seq)\n",
    "    already_seen.append(complement)\n",
    "    if set(seq) in already_seen:\n",
    "        continue\n",
    "    print(seq, complement)"
   ]
  },
  {
   "cell_type": "code",
   "execution_count": 6,
   "metadata": {},
   "outputs": [
    {
     "name": "stdout",
     "output_type": "stream",
     "text": [
      "4\n"
     ]
    }
   ],
   "source": [
    "print(len(a_union_b))"
   ]
  },
  {
   "cell_type": "code",
   "execution_count": 23,
   "metadata": {},
   "outputs": [],
   "source": [
    "def get_complements(x_union_y):\n",
    "    '''Generator function that yields pairs of equal-size disjoint subsets\n",
    "    of x_union_y.\n",
    "    x_union_y should a set type.'''\n",
    "    already_seen = []\n",
    "    for seq in combinations(x_union_y, len(x_union_y)//2):\n",
    "        complement = x_union_y.difference(seq)\n",
    "        already_seen.append(complement)\n",
    "        if set(seq) in already_seen:\n",
    "            continue\n",
    "        yield (seq, complement)"
   ]
  },
  {
   "cell_type": "code",
   "execution_count": 21,
   "metadata": {},
   "outputs": [
    {
     "name": "stdout",
     "output_type": "stream",
     "text": [
      "(('d', 'a'), {'c', 'b'})\n",
      "(('d', 'b'), {'a', 'c'})\n",
      "(('d', 'c'), {'a', 'b'})\n"
     ]
    }
   ],
   "source": [
    "x_union_y = {'a','b','c','d'}\n",
    "for tup in get_complements(x_union_y):\n",
    "    print(tup)"
   ]
  },
  {
   "cell_type": "code",
   "execution_count": null,
   "metadata": {},
   "outputs": [],
   "source": []
  }
 ],
 "metadata": {
  "kernelspec": {
   "display_name": "Python 3",
   "language": "python",
   "name": "python3"
  },
  "language_info": {
   "codemirror_mode": {
    "name": "ipython",
    "version": 3
   },
   "file_extension": ".py",
   "mimetype": "text/x-python",
   "name": "python",
   "nbconvert_exporter": "python",
   "pygments_lexer": "ipython3",
   "version": "3.7.4"
  }
 },
 "nbformat": 4,
 "nbformat_minor": 4
}
