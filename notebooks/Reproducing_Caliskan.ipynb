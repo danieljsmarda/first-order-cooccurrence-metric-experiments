{
 "cells": [
  {
   "cell_type": "code",
   "execution_count": 10,
   "metadata": {},
   "outputs": [
    {
     "name": "stderr",
     "output_type": "stream",
     "text": [
      "[autoreload of models failed: Traceback (most recent call last):\n",
      "  File \"C:\\Users\\danie\\Miniconda3\\envs\\semproject\\lib\\site-packages\\IPython\\extensions\\autoreload.py\", line 245, in check\n",
      "    superreload(m, reload, self.old_objects)\n",
      "  File \"C:\\Users\\danie\\Miniconda3\\envs\\semproject\\lib\\site-packages\\IPython\\extensions\\autoreload.py\", line 394, in superreload\n",
      "    module = reload(module)\n",
      "  File \"C:\\Users\\danie\\Miniconda3\\envs\\semproject\\lib\\imp.py\", line 314, in reload\n",
      "    return importlib.reload(module)\n",
      "  File \"C:\\Users\\danie\\Miniconda3\\envs\\semproject\\lib\\importlib\\__init__.py\", line 169, in reload\n",
      "    _bootstrap._exec(spec, module)\n",
      "  File \"<frozen importlib._bootstrap>\", line 630, in _exec\n",
      "  File \"<frozen importlib._bootstrap_external>\", line 728, in exec_module\n",
      "  File \"<frozen importlib._bootstrap>\", line 219, in _call_with_frames_removed\n",
      "  File \"../src\\models\\__init__.py\", line 2, in <module>\n",
      "    from .p_values import *\n",
      "  File \"../src\\models\\p_values.py\", line 1, in <module>\n",
      "    from src.models.effect_size import produce_effect_size, \\\n",
      "ModuleNotFoundError: No module named 'src'\n",
      "]\n"
     ]
    },
    {
     "name": "stdout",
     "output_type": "stream",
     "text": [
      "The autoreload extension is already loaded. To reload it, use:\n",
      "  %reload_ext autoreload\n"
     ]
    },
    {
     "ename": "ImportError",
     "evalue": "cannot import name 'produce_p_value' from 'models' (../src\\models\\__init__.py)",
     "output_type": "error",
     "traceback": [
      "\u001b[1;31m---------------------------------------------------------------------------\u001b[0m",
      "\u001b[1;31mImportError\u001b[0m                               Traceback (most recent call last)",
      "\u001b[1;32m<ipython-input-10-611bf77b0495>\u001b[0m in \u001b[0;36m<module>\u001b[1;34m\u001b[0m\n\u001b[0;32m     11\u001b[0m \u001b[0msys\u001b[0m\u001b[1;33m.\u001b[0m\u001b[0mpath\u001b[0m\u001b[1;33m.\u001b[0m\u001b[0mappend\u001b[0m\u001b[1;33m(\u001b[0m\u001b[1;34m'../src'\u001b[0m\u001b[1;33m)\u001b[0m\u001b[1;33m\u001b[0m\u001b[1;33m\u001b[0m\u001b[0m\n\u001b[0;32m     12\u001b[0m \u001b[1;32mfrom\u001b[0m \u001b[0mmodels\u001b[0m \u001b[1;32mimport\u001b[0m \u001b[0mproduce_effect_size\u001b[0m\u001b[1;33m,\u001b[0m \u001b[0mcalculate_association_metric_for_target_word\u001b[0m\u001b[1;33m,\u001b[0m \u001b[0mget_matrices_from_term_lists\u001b[0m\u001b[1;33m\u001b[0m\u001b[1;33m\u001b[0m\u001b[0m\n\u001b[1;32m---> 13\u001b[1;33m \u001b[1;32mfrom\u001b[0m \u001b[0mmodels\u001b[0m \u001b[1;32mimport\u001b[0m \u001b[0mproduce_p_value\u001b[0m\u001b[1;33m\u001b[0m\u001b[1;33m\u001b[0m\u001b[0m\n\u001b[0m",
      "\u001b[1;31mImportError\u001b[0m: cannot import name 'produce_p_value' from 'models' (../src\\models\\__init__.py)"
     ]
    }
   ],
   "source": [
    "%load_ext autoreload\n",
    "%autoreload 2\n",
    "from gensim.test.utils import datapath\n",
    "from gensim.models import KeyedVectors\n",
    "from scipy.spatial.distance import cosine as cosine_distance\n",
    "from scipy.special import comb as num_combinations\n",
    "import numpy as np\n",
    "from itertools import combinations\n",
    "from tqdm import tqdm\n",
    "import sys\n",
    "sys.path.append('../src')\n",
    "from models import produce_effect_size, calculate_association_metric_for_target_word, get_matrices_from_term_lists\n",
    "from models import produce_p_value"
   ]
  },
  {
   "cell_type": "code",
   "execution_count": 2,
   "metadata": {},
   "outputs": [],
   "source": [
    "wv_from_bin = KeyedVectors.load_word2vec_format(\"../data/external/GoogleNews-vectors-negative300.bin\", binary=True)  # C bin format"
   ]
  },
  {
   "cell_type": "code",
   "execution_count": 13,
   "metadata": {},
   "outputs": [],
   "source": [
    "# WEAT 6\n",
    "X_terms = ['John', 'Paul','Mike','Kevin','Steve','Greg','Jeff','Bill']\n",
    "Y_terms = ['Amy','Joan','Lisa','Sarah','Diana','Kate','Ann','Donna']\n",
    "A_terms = ['executive','management','professional','corporation',\n",
    "               'salary','office','business','career']\n",
    "B_terms = ['home','parents','children','family',\n",
    "               'cousins','marriage','wedding','relatives']"
   ]
  },
  {
   "cell_type": "code",
   "execution_count": 10,
   "metadata": {},
   "outputs": [],
   "source": [
    "# WEAT 7 using Google News word2vec model\n",
    "X_terms = ['math','algebra','geometry','calculus',\n",
    "             'equations','computation','numbers','addition']\n",
    "Y_terms = ['poetry','art','dance','literature',\n",
    "             'novel','symphony','drama','sculpture']\n",
    "A_terms = ['male','man','boy','brother',\n",
    "              'he','him','his','son']\n",
    "B_terms = ['female','woman','girl','sister',\n",
    "               'she','her','hers','daughter']"
   ]
  },
  {
   "cell_type": "code",
   "execution_count": 3,
   "metadata": {},
   "outputs": [],
   "source": [
    "# Weat 8\n",
    "A_terms = ['brother','father','uncle','grandfather',\n",
    "          'son','he','his','him']\n",
    "B_terms = ['sister','mother','aunt','grandmother',\n",
    "          'daughter','she','hers','her']\n",
    "X_terms = ['science','technology','physics','chemistry',\n",
    "          'Einstein','NASA','experiment','astronomy']\n",
    "Y_terms = ['poetry','art','Shakespeare','dance',\n",
    "          'literature','novel','symphony','drama']"
   ]
  },
  {
   "cell_type": "code",
   "execution_count": 5,
   "metadata": {},
   "outputs": [],
   "source": [
    "wv_test_object = {'x_word1':[.1,.2,.3],\n",
    "            'x_word2':[.4,.5,.6],\n",
    "            'y_word1':[.2,.4,.6],\n",
    "            'y_word2':[.1,.3,.5],\n",
    "            'a_word1':[.5,.7,.9],\n",
    "            'a_word2':[.4,.6,.8],\n",
    "            'b_word1':[.3,.6,.9],\n",
    "            'b_word2':[.4,.7,.9]}"
   ]
  },
  {
   "cell_type": "code",
   "execution_count": 5,
   "metadata": {},
   "outputs": [],
   "source": [
    "X_terms = ['x_word1', 'x_word2']\n",
    "Y_terms = ['y_word1', 'y_word2']\n",
    "A_terms = ['a_word1', 'a_word2']\n",
    "B_terms = ['b_word1', 'b_word2']\n",
    "[X_mtx, Y_mtx, A_mtx, B_mtx] = get_matrices_from_term_lists(wv_test_object, X_terms, Y_terms, A_terms, B_terms)"
   ]
  },
  {
   "cell_type": "code",
   "execution_count": 61,
   "metadata": {},
   "outputs": [
    {
     "data": {
      "text/plain": [
       "1.1899801283181513"
      ]
     },
     "execution_count": 61,
     "metadata": {},
     "output_type": "execute_result"
    }
   ],
   "source": [
    "produce_effect_size(wv_test_object, X_terms, Y_terms, A_terms, B_terms)"
   ]
  },
  {
   "cell_type": "markdown",
   "metadata": {},
   "source": [
    "# Test Statistic"
   ]
  },
  {
   "cell_type": "code",
   "execution_count": 66,
   "metadata": {},
   "outputs": [],
   "source": [
    "x1_vec = wv_test_object['x_word1']\n",
    "s1 = calculate_association_metric_for_target_word(x1_vec, A_mtx, B_mtx)"
   ]
  },
  {
   "cell_type": "code",
   "execution_count": 68,
   "metadata": {},
   "outputs": [],
   "source": [
    "x2_vec = wv_test_object['x_word2']\n",
    "s2 = calculate_association_metric_for_target_word(x2_vec, A_mtx, B_mtx)"
   ]
  },
  {
   "cell_type": "code",
   "execution_count": 74,
   "metadata": {},
   "outputs": [],
   "source": [
    "y1_vec = wv_test_object['y_word1']\n",
    "sy1 = calculate_association_metric_for_target_word(y1_vec, A_mtx, B_mtx)\n",
    "y2_vec = wv_test_object['y_word2']\n",
    "sy2 = calculate_association_metric_for_target_word(y2_vec, A_mtx, B_mtx)"
   ]
  },
  {
   "cell_type": "code",
   "execution_count": 75,
   "metadata": {},
   "outputs": [
    {
     "name": "stdout",
     "output_type": "stream",
     "text": [
      "-0.007639423266564194 0.013706608780193585 0.03175706038191817\n"
     ]
    }
   ],
   "source": [
    "print(s1, s2, s1+s2 - (sy1+sy2))"
   ]
  },
  {
   "cell_type": "code",
   "execution_count": 7,
   "metadata": {},
   "outputs": [],
   "source": [
    "def produce_test_statistic(wv_obj, X_terms, Y_terms, A_terms, B_terms):\n",
    "    [X_mtx, Y_mtx, A_mtx, B_mtx] = get_matrices_from_term_lists(wv_obj, X_terms, Y_terms, A_terms, B_terms)\n",
    "    x_associations = np.apply_along_axis(lambda x_vec: calculate_association_metric_for_target_word(x_vec, A_mtx, B_mtx), 1, X_mtx)\n",
    "    y_associations = np.apply_along_axis(lambda y_vec: calculate_association_metric_for_target_word(y_vec, A_mtx, B_mtx), 1, Y_mtx)\n",
    "    return np.sum(x_associations) - np.sum(y_associations)"
   ]
  },
  {
   "cell_type": "code",
   "execution_count": 8,
   "metadata": {},
   "outputs": [],
   "source": [
    "def get_complements(x_union_y):\n",
    "    '''Generator function that yields pairs of equal-size disjoint subsets\n",
    "    of x_union_y.\n",
    "    x_union_y should a set type.'''\n",
    "    already_seen = set()\n",
    "    for seq in combinations(x_union_y, len(x_union_y)//2):\n",
    "        complement = frozenset(x_union_y.difference(seq))\n",
    "        #already_seen.append(complement)\n",
    "        already_seen.add(complement)\n",
    "        #if frozenset(seq) in already_seen:\n",
    "            #continue\n",
    "        yield (seq, complement)"
   ]
  },
  {
   "cell_type": "code",
   "execution_count": 5,
   "metadata": {},
   "outputs": [
    {
     "name": "stdout",
     "output_type": "stream",
     "text": [
      "(('c', 'd'), frozenset({'b', 'a'}))\n",
      "(('c', 'b'), frozenset({'d', 'a'}))\n",
      "(('c', 'a'), frozenset({'d', 'b'}))\n"
     ]
    }
   ],
   "source": [
    "x_union_y = {'a','b','c','d'}\n",
    "for tup in get_complements(x_union_y):\n",
    "    print(tup)"
   ]
  },
  {
   "cell_type": "code",
   "execution_count": 9,
   "metadata": {},
   "outputs": [
    {
     "name": "stderr",
     "output_type": "stream",
     "text": [
      "100%|██████████████████████████████████████████████████████████████████████████| 12870/12870.0 [03:16<00:00, 65.34it/s]\n"
     ]
    },
    {
     "data": {
      "text/plain": [
       "0.003962703962703963"
      ]
     },
     "execution_count": 9,
     "metadata": {},
     "output_type": "execute_result"
    }
   ],
   "source": [
    "def produce_p_value(wv_obj, X_terms, Y_terms, A_terms, B_terms):\n",
    "    x_union_y = set(X_terms).union(set(Y_terms))\n",
    "    total_terms = len(x_union_y)\n",
    "    total_pairs = 0\n",
    "    high_test_statistics = 0\n",
    "    comparison_statistic = produce_test_statistic(wv_obj, X_terms, Y_terms, A_terms, B_terms)\n",
    "    for (X_i_terms, Y_i_terms) in tqdm(get_complements(x_union_y), total=num_combinations(total_terms, total_terms/2)):\n",
    "        total_pairs += 1\n",
    "        test_statistic = produce_test_statistic(wv_obj, X_i_terms, Y_i_terms, A_terms, B_terms)\n",
    "        if (test_statistic > comparison_statistic): high_test_statistics += 1\n",
    "    return (float(high_test_statistics) / float(total_pairs))\n",
    "produce_p_value(wv_from_bin, X_terms, Y_terms, A_terms, B_terms)"
   ]
  },
  {
   "cell_type": "markdown",
   "metadata": {},
   "source": [
    "# Results"
   ]
  },
  {
   "cell_type": "markdown",
   "metadata": {},
   "source": [
    "Weat 6: 0 (0/6435)\n",
    "Weat 7: 0.02905 (187/6435)\n",
    "Weat 8: 0.0003108 (2/6435)"
   ]
  },
  {
   "cell_type": "markdown",
   "metadata": {},
   "source": [
    "Results without complements: Weat 6: 0, Weat 7: 0.0225; Weat 8: 0.00396"
   ]
  },
  {
   "cell_type": "code",
   "execution_count": null,
   "metadata": {},
   "outputs": [],
   "source": []
  }
 ],
 "metadata": {
  "kernelspec": {
   "display_name": "Python 3",
   "language": "python",
   "name": "python3"
  },
  "language_info": {
   "codemirror_mode": {
    "name": "ipython",
    "version": 3
   },
   "file_extension": ".py",
   "mimetype": "text/x-python",
   "name": "python",
   "nbconvert_exporter": "python",
   "pygments_lexer": "ipython3",
   "version": "3.7.4"
  }
 },
 "nbformat": 4,
 "nbformat_minor": 4
}
