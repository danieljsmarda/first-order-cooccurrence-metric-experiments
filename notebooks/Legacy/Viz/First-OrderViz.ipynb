{
 "cells": [
  {
   "cell_type": "code",
   "execution_count": 4,
   "metadata": {},
   "outputs": [],
   "source": [
    "import matplotlib.pyplot as plt\n",
    "from gensim.models import Word2Vec\n",
    "import numpy as np\n",
    "from itertools import product\n",
    "from tqdm import tqdm\n",
    "import sys\n",
    "sys.path.append('../src')\n",
    "from models import open_pickle, filter_terms_not_in_wemodel"
   ]
  },
  {
   "cell_type": "code",
   "execution_count": 21,
   "metadata": {},
   "outputs": [
    {
     "name": "stdout",
     "output_type": "stream",
     "text": [
      "loading done!\n"
     ]
    }
   ],
   "source": [
    "we_model_name = \"sg_dim300_min100_win5\"\n",
    "we_vector_size = 300\n",
    "we_model_dir = '../data/external/wiki-english/wiki-english-20171001/%s' % we_model_name\n",
    "\n",
    "we_model = Word2Vec.load(we_model_dir+'/model.gensim')\n",
    "print ('loading done!')"
   ]
  },
  {
   "cell_type": "code",
   "execution_count": 5,
   "metadata": {},
   "outputs": [],
   "source": [
    "RESULTS_FILEPATH = '../data/interim/association_metric_exps.pickle'\n",
    "EXPERIMENT_DEFINITION_FILEPATH = '../data/interim/experiment_definitions.pickle'\n",
    "IMAGE_SAVE_FILEPATH = '../reports/figures/exp_results.png'\n",
    "NONRELATIVE_IMAGE_SAVE_FILEPATH = '../reports/figures/nonrelative_exp_results.png'\n",
    "\n",
    "exp_def_dict = open_pickle(EXPERIMENT_DEFINITION_FILEPATH)\n",
    "results_dict = open_pickle(RESULTS_FILEPATH)"
   ]
  },
  {
   "cell_type": "code",
   "execution_count": 6,
   "metadata": {},
   "outputs": [
    {
     "data": {
      "text/plain": [
       "{'X_array': array([0.06205934, 0.09165296, 0.0919002 , 0.11380053, 0.09113181,\n",
       "        0.11897811, 0.10779971, 0.08894435, 0.11067972, 0.14237365,\n",
       "        0.09621373, 0.1135487 , 0.14185229, 0.06471875, 0.08086327,\n",
       "        0.15060195, 0.12328166, 0.13162217, 0.18247157, 0.08507252,\n",
       "        0.04209799, 0.12344435, 0.08338574, 0.09611011], dtype=float32),\n",
       " 'Y_array': array([ 0.20805708, -0.08329672, -0.09894511,  0.01462591, -0.12913164,\n",
       "        -0.04405615, -0.02649808, -0.0268372 ,  0.05020308, -0.01089379,\n",
       "        -0.04618579, -0.09935915, -0.03268984, -0.01189023, -0.25332013,\n",
       "        -0.15611374, -0.1442793 , -0.12644878, -0.21717617,  0.0141916 ,\n",
       "        -0.12324518,  0.01065516,  0.03379461,  0.03538892], dtype=float32),\n",
       " 'X_mean': 0.105608545,\n",
       " 'Y_mean': -0.052643776,\n",
       " 'threshold': 0.0380725,\n",
       " 'pct_5': 0.006891302671283487,\n",
       " 'pct_95': 0.557002368569374,\n",
       " 'A_biases': array([0.5008259 , 0.3699408 , 0.22995502, 0.42247248, 0.3397562 ,\n",
       "        0.36337355, 0.25808394, 0.32315367, 0.5109651 , 0.29766297,\n",
       "        0.44996813, 0.44024473, 0.26912582, 0.28023386, 0.37395474,\n",
       "        0.25299838, 0.42247367, 0.31099528, 0.3073465 , 0.385985  ,\n",
       "        0.38600868, 0.3566254 , 0.36788228, 0.36334863], dtype=float32),\n",
       " 'lower_bound': -0.12051583379507065,\n",
       " 'upper_bound': 0.10539177060127258}"
      ]
     },
     "execution_count": 6,
     "metadata": {},
     "output_type": "execute_result"
    }
   ],
   "source": [
    "results_dict[2]['second']"
   ]
  },
  {
   "cell_type": "code",
   "execution_count": 10,
   "metadata": {},
   "outputs": [],
   "source": [
    "def add_axes_obj_labels(ax, exp_num, target_label, A_label, B_label):\n",
    "    TITLE_FONT_SIZE = 12\n",
    "    [target_label, A_label, B_label] = [s.upper() for s in [target_label, A_label, B_label]]\n",
    "    ax.set_title(f'#{exp_num}: {target_label} terms: {B_label} (left) vs. {A_label} (right)',\n",
    "                fontsize=TITLE_FONT_SIZE)\n",
    "    ax.set_xlabel(f'Bias Value')\n",
    "    ax.set_ylabel(f'Word')\n",
    "    ax.yaxis.set_ticklabels([])"
   ]
  },
  {
   "cell_type": "code",
   "execution_count": 9,
   "metadata": {},
   "outputs": [],
   "source": [
    "def annotate_points(ax, terms, x_array, y):\n",
    "    POINT_FONT_SIZE = 9\n",
    "    for i, txt in enumerate(terms):\n",
    "        ax.annotate(txt, (x_array[i], y[i]), fontsize=POINT_FONT_SIZE)"
   ]
  },
  {
   "cell_type": "code",
   "execution_count": 12,
   "metadata": {},
   "outputs": [],
   "source": [
    "def add_scatters_and_lines(ax, arr_first, arr_second, threshold_first, threshold_second,\n",
    "                   mean_first, mean_second, pct_5_second, pct_95_second, lower_bound, upper_bound, y):\n",
    "    S = 20 # Marker size\n",
    "    ZERO_LINE_COLOR = 'lime'\n",
    "    FIRST_ORDER_COLOR = 'black'\n",
    "    SECOND_ORDER_COLOR = 'red'\n",
    "    SECOND_ORDER_PERCENTILES_COLOR = 'blue'\n",
    "    SHADE_DARKNESS = 0.2\n",
    "    XAXIS_LIMIT = 0.6\n",
    "    \n",
    "    y = [i for i in range(1,len(arr_first)+1)]\n",
    "    #ax.scatter(arr_first, y, c=FIRST_ORDER_COLOR, s=S)\n",
    "    ax.scatter(arr_second, y, c=SECOND_ORDER_COLOR, s=S)\n",
    "    ax.xaxis.grid()\n",
    "    #ax.axvline(threshold_first, c=FIRST_ORDER_COLOR, linestyle='-.',label='first-order threshold')\n",
    "    ax.axvline(threshold_second, color=SECOND_ORDER_COLOR, linestyle='-.', label='second-order threshold')\n",
    "    #ax.axvline(-threshold_first, c=FIRST_ORDER_COLOR, linestyle='-.')\n",
    "    ax.axvline(-threshold_second, color=SECOND_ORDER_COLOR, linestyle='-.')\n",
    "    #ax.axvline(mean_first, c=FIRST_ORDER_COLOR, label='first-order mean')\n",
    "    #ax.axvline(mean_second, c=SECOND_ORDER_COLOR, label='second-order mean')\n",
    "    ax.axvspan(lower_bound, upper_bound, alpha=SHADE_DARKNESS, color=SECOND_ORDER_PERCENTILES_COLOR)\n",
    "    #ax.axvspan(pct_5_second, pct_95_second, alpha=SHADE_DARKNESS, color=SECOND_ORDER_PERCENTILES_COLOR)\n",
    "    #ax.axvspan(-threshold_first, threshold_first, alpha=SHADE_DARKNESS, color='black')\n",
    "    ax.set_xlim(-XAXIS_LIMIT, XAXIS_LIMIT)"
   ]
  },
  {
   "cell_type": "code",
   "execution_count": null,
   "metadata": {},
   "outputs": [],
   "source": [
    "fig, axs = plt.subplots(10,2, figsize=(15,50))\n",
    "LEGEND_SIZE = 10\n",
    "\n",
    "exps = range(1,11)\n",
    "target_letters = ['X','Y']\n",
    "for exp_num, target_letter in tqdm(product(exps, target_letters), total=20):\n",
    "    col = 0 if target_letter =='X' else 1\n",
    "    ax = axs[exp_num-1, col]\n",
    "    \n",
    "    arr_first = results_dict[exp_num]['first'][f'{target_letter}_array']\n",
    "    arr_second = results_dict[exp_num]['second'][f'{target_letter}_array']\n",
    "    threshold_first = results_dict[exp_num]['first']['threshold']\n",
    "    threshold_second = results_dict[exp_num]['second']['threshold']\n",
    "    mean_first = results_dict[exp_num]['first'][f'{target_letter}_mean']\n",
    "    mean_second = results_dict[exp_num]['second'][f'{target_letter}_mean']\n",
    "    pct_5_second = results_dict[exp_num]['second']['pct_5']\n",
    "    pct_95_second = results_dict[exp_num]['second']['pct_95']\n",
    "    lower_bound = results_dict[exp_num]['second']['lower_bound']\n",
    "    upper_bound = results_dict[exp_num]['second']['upper_bound']\n",
    "    y = [i for i in range(1,len(arr_first)+1)]\n",
    "    print(arr_first)\n",
    "    \n",
    "    terms = exp_def_dict[exp_num][f'{target_letter}_terms']\n",
    "    target_label = exp_def_dict[exp_num][f'{target_letter}_label']\n",
    "    A_label = exp_def_dict[exp_num]['A_label']\n",
    "    B_label = exp_def_dict[exp_num]['B_label']\n",
    "    \n",
    "    \n",
    "    add_scatters_and_lines(ax, arr_first, arr_second, threshold_first, threshold_second,\n",
    "                    mean_first, mean_second, pct_5_second, pct_95_second, lower_bound, upper_bound, y)\n",
    "    annotate_points(ax, terms, arr_first, y)\n",
    "    add_axes_obj_labels(ax, exp_num, target_label, A_label, B_label)\n",
    "axs[0,0].legend(loc=2, prop={'size': LEGEND_SIZE})\n",
    "fig.tight_layout(pad=2)\n",
    "print('Rendering...')\n",
    "plt.savefig(IMAGE_SAVE_FILEPATH)\n",
    "plt.show()"
   ]
  }
 ],
 "metadata": {
  "kernelspec": {
   "display_name": "Python 3",
   "language": "python",
   "name": "python3"
  },
  "language_info": {
   "codemirror_mode": {
    "name": "ipython",
    "version": 3
   },
   "file_extension": ".py",
   "mimetype": "text/x-python",
   "name": "python",
   "nbconvert_exporter": "python",
   "pygments_lexer": "ipython3",
   "version": "3.7.4"
  }
 },
 "nbformat": 4,
 "nbformat_minor": 4
}
